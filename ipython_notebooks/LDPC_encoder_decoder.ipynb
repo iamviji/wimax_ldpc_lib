{
 "metadata": {
  "name": "",
  "signature": "sha256:4dc2177658ba0fb9dfeb955f21e11aa565a98c323808d156634831dd76609123"
 },
 "nbformat": 3,
 "nbformat_minor": 0,
 "worksheets": [
  {
   "cells": [
    {
     "cell_type": "code",
     "collapsed": false,
     "input": [
      "#%matplotlib nbagg\n",
      "import numpy as np\n",
      "import matplotlib.pyplot as plt\n",
      "import random\n",
      "import decimal\n",
      "import scipy.special\n",
      "import math\n",
      "from copy import copy"
     ],
     "language": "python",
     "metadata": {},
     "outputs": [],
     "prompt_number": 13
    },
    {
     "cell_type": "code",
     "collapsed": false,
     "input": [
      "def create_H_from_alist(alist):\n",
      "    \n",
      "    f = open('../alist/' + alist, 'r')\n",
      "    \n",
      "    line = f.readline()\n",
      "    N, M = line.split(' ')\n",
      "    \n",
      "    print int(N)\n",
      "    print int(M)\n",
      "    \n",
      "    line = f.readline()\n",
      "    max_col_weight, max_row_weight = line.split(' ')\n",
      "\n",
      "    #print int(max_col_weight)\n",
      "    #print int(max_row_weight)\n",
      "    \n",
      "    line = f.readline()\n",
      "    col_weights = line.split(' ')\n",
      "    col_weights.pop()\n",
      "    \n",
      "    line = f.readline()\n",
      "    row_weights = line.split(' ')\n",
      "    row_weights.pop()\n",
      "    \n",
      "    #print col_weights\n",
      "    #print row_weights\n",
      "    \n",
      "    nlist = []\n",
      "    mlist = []\n",
      "    \n",
      "    for i in range(int(N)):\n",
      "        nlist.append(f.readline().split('\\n')[0])\n",
      "        \n",
      "    \n",
      "    for i in range(int(M)):\n",
      "        mlist.append(f.readline().split('\\n')[0])\n",
      "    \n",
      "    \n",
      "    # create 2304 x 1152 matrix\n",
      "    H = np.zeros((int(M), int(N)), dtype=bool)\n",
      "    \n",
      "    \n",
      "    for i in range(int(M)):\n",
      "        indices = mlist[i].split(' ')[0:int(max_row_weight)]\n",
      "        indices = [ int(x)-1 for x in indices ]\n",
      "    \n",
      "        #print indices\n",
      "        for k in indices:\n",
      "            if k != -1:\n",
      "                H[i][k] = 1\n",
      "        \n",
      "        \n",
      "    \n",
      "    f.close()\n",
      "    \n",
      "    \n",
      "    return H, int(N), int(M)"
     ],
     "language": "python",
     "metadata": {},
     "outputs": [],
     "prompt_number": 14
    },
    {
     "cell_type": "code",
     "collapsed": false,
     "input": [
      "H, N, M = create_H_from_alist('wimax_2304_0_66A.alist')"
     ],
     "language": "python",
     "metadata": {},
     "outputs": [
      {
       "output_type": "stream",
       "stream": "stdout",
       "text": [
        "2304\n",
        "768\n"
       ]
      }
     ],
     "prompt_number": 431
    },
    {
     "cell_type": "code",
     "collapsed": false,
     "input": [
      "BASE_H_SIZE = 24\n",
      "\n",
      "Z = N / BASE_H_SIZE"
     ],
     "language": "python",
     "metadata": {},
     "outputs": [],
     "prompt_number": 432
    },
    {
     "cell_type": "code",
     "collapsed": false,
     "input": [
      "def generate_encoding_matrices(H, M, Z):\n",
      "    A = H[0:M-Z,0:N-M]\n",
      "    B = H[0:M-Z, N-M:(N-M)+Z]\n",
      "    C = H[M-Z::, 0:N-M]\n",
      "    D = H[M-Z::, N-M:(N-M)+Z]\n",
      "    E = H[M-Z::, (N-M)+Z::]\n",
      "    T = H[:M-Z, (N-M)+Z::]\n",
      "\n",
      "    Tinv = np.linalg.inv(T) %2\n",
      "    \n",
      "    M1 = np.dot(E,Tinv)%2\n",
      "    M1 = np.dot(M1, A)%2\n",
      "    M1 = (M1 + C)%2\n",
      "\n",
      "    M2 = np.dot(-Tinv, A)%2\n",
      "\n",
      "    \n",
      "    M3 = np.dot(-Tinv, B)%2\n",
      "    \n",
      "    phi = (-np.dot(np.dot(E, Tinv)%2, B)%2 + D) %2\n",
      "    \n",
      "    #M1 = np.dot(-phi,M1)%2\n",
      "    #print C\n",
      "    #print E\n",
      "        \n",
      "    return M1, M2, M3, phi"
     ],
     "language": "python",
     "metadata": {},
     "outputs": [],
     "prompt_number": 439
    },
    {
     "cell_type": "code",
     "collapsed": false,
     "input": [
      "M1, M2, M3, phi = generate_encoding_matrices(H, M, Z)\n",
      "\n"
     ],
     "language": "python",
     "metadata": {},
     "outputs": [],
     "prompt_number": 440
    },
    {
     "cell_type": "code",
     "collapsed": false,
     "input": [
      "\n",
      "def compute_syndrome(checknodes, rx_codeword):\n",
      "    \n",
      "    num_errors = 0\n",
      "    \n",
      "    for i in checknodes:\n",
      "        indices = i\n",
      "        xorsum = 0\n",
      "        \n",
      "        for k in indices:\n",
      "            if (k != '' and int(k) != 0):\n",
      "                xorsum ^= rx_codeword[int(k)-1]\n",
      "        \n",
      "        if (xorsum != 0):\n",
      "            num_errors += 1\n",
      "    \n",
      "    return num_errors"
     ],
     "language": "python",
     "metadata": {},
     "outputs": [],
     "prompt_number": 441
    },
    {
     "cell_type": "code",
     "collapsed": false,
     "input": [
      "# dimensions of infoword are 1x1152\n",
      "\n",
      "def encode_data(infoword, M1, M2, M3, phi):\n",
      "    \n",
      "    p1 = np.dot(M1, np.transpose(infoword))%2\n",
      "    \n",
      "    print len(p1)\n",
      "    \n",
      "    print len(M3)\n",
      "    print len(M3[0])\n",
      "    \n",
      "    p2 = (np.dot(M2, infoword)%2 + np.dot(M3, p1)%2)%2\n",
      "    \n",
      "    return np.array(np.concatenate((infoword, p1, p2), axis = 0), dtype=np.uint8)\n",
      "    "
     ],
     "language": "python",
     "metadata": {},
     "outputs": [],
     "prompt_number": 442
    },
    {
     "cell_type": "code",
     "collapsed": false,
     "input": [],
     "language": "python",
     "metadata": {},
     "outputs": [],
     "prompt_number": 442
    },
    {
     "cell_type": "code",
     "collapsed": false,
     "input": [
      "info = np.array(np.random.randint(0,2,N-M), dtype=bool)\n",
      "\n",
      "print(len(np.transpose(info)))\n",
      "\n",
      "\n",
      "codeword = encode_data(info, M1, M2, M3, phi)\n"
     ],
     "language": "python",
     "metadata": {},
     "outputs": [
      {
       "output_type": "stream",
       "stream": "stdout",
       "text": [
        "1536\n",
        "96\n",
        "672\n",
        "96\n"
       ]
      }
     ],
     "prompt_number": 443
    },
    {
     "cell_type": "code",
     "collapsed": false,
     "input": [
      "\n",
      "checknodes, decode_N, decode_M = read_checknodes_from_alist('wimax_2304_0_66A.alist')\n",
      "codeword_with_errors = codeword\n",
      "#codeword_with_errors[1215] = 1\n",
      "\n",
      "compute_syndrome(checknodes, codeword_with_errors)\n"
     ],
     "language": "python",
     "metadata": {},
     "outputs": [
      {
       "metadata": {},
       "output_type": "pyout",
       "prompt_number": 444,
       "text": [
        "0"
       ]
      }
     ],
     "prompt_number": 444
    },
    {
     "cell_type": "code",
     "collapsed": false,
     "input": [
      "\n",
      "    "
     ],
     "language": "python",
     "metadata": {},
     "outputs": [],
     "prompt_number": 429
    },
    {
     "cell_type": "code",
     "collapsed": false,
     "input": [],
     "language": "python",
     "metadata": {},
     "outputs": [],
     "prompt_number": 391
    },
    {
     "cell_type": "code",
     "collapsed": false,
     "input": [
      "# Example from Richardson and Urbanke\n",
      "\n",
      "info = [1,0,0,0,0,0]\n",
      "\n",
      "info = np.array(info, dtype=np.uint8)\n",
      "\n",
      "A = [\n",
      "    [1,1,1,0,0,1],\n",
      "    [1,1,1,1,0,0],\n",
      "    [0,0,0,0,1,1],\n",
      "    [1,0,0,1,1,0]\n",
      "    ]\n",
      "\n",
      "A = np.array(A, dtype=np.uint8)\n",
      "\n",
      "B = [[1,0],\n",
      "     [0,1],\n",
      "     [1,0],\n",
      "     [0,0]]\n",
      "\n",
      "B = np.array(B, dtype=np.uint8)\n",
      "\n",
      "T = [[1,0,0,0],\n",
      "     [0,1,0,0],\n",
      "     [1,1,1,0],\n",
      "     [0,1,1,1]]\n",
      "\n",
      "T = np.array(T, dtype=np.uint8)\n",
      "\n",
      "C = [[0,1,0,1,0,0],\n",
      "     [0,0,1,0,1,1]]\n",
      "\n",
      "C = np.array(C, dtype=np.uint8)\n",
      "\n",
      "D = [[1,1],\n",
      "     [0,1]]\n",
      "\n",
      "D = np.array(D, dtype=np.uint8)\n",
      "\n",
      "E = [[0,0,1,1],\n",
      "     [1,0,0,1]]\n",
      "\n",
      "E = np.array(E, dtype=np.uint8)\n",
      "\n",
      "T = np.linalg.inv(T) % 2\n",
      "\n",
      "\n",
      "AsT = np.dot(A, info) % 2\n",
      "\n",
      "AsT = np.dot(T, AsT) % 2\n",
      "\n",
      "AsT = np.dot(-E, AsT) % 2\n",
      "\n",
      "phi = (-np.dot(np.dot(E, T)%2, B)%2 + D) %2\n",
      "\n",
      "p1 = AsT + np.dot(C, info)%2\n",
      "\n",
      "p1 = np.dot(phi, p1)% 2\n",
      "\n",
      "\n",
      "p2 = np.dot(A, info)%2 + np.dot(B, p1)%2\n",
      "p2 = np.dot(T, p2)%2\n",
      "\n",
      "\n",
      "print np.concatenate((info, p1, p2))\n",
      "\n",
      "ru_codeword = np.array(np.concatenate((info, p1, p2)), dtype=np.uint8)"
     ],
     "language": "python",
     "metadata": {},
     "outputs": [
      {
       "output_type": "stream",
       "stream": "stdout",
       "text": [
        "[ 1.  0.  0.  0.  0.  0.  0.  1.  1.  0.  1.  0.]\n"
       ]
      }
     ],
     "prompt_number": 228
    },
    {
     "cell_type": "code",
     "collapsed": false,
     "input": [
      "ru_mlist = np.array([[1,2,3,6,7,9],\n",
      "                     [1,2,3,4,8,10],\n",
      "                     [5,6,7,9,10,11],\n",
      "                     [1,4,5,10,11,12],\n",
      "                     [2,4,7,8,11,12],\n",
      "                     [3,5,6,8,9,12]])\n",
      "\n",
      "\n",
      "ru_codeword[5] = 1\n",
      "\n",
      "num_errors = 0\n",
      "\n",
      "for i in ru_mlist:\n",
      "    xorsum = 0\n",
      "\n",
      "    for k in i:\n",
      "        if (k != 0):\n",
      "            xorsum ^= ru_codeword[k-1]\n",
      "\n",
      "    if (xorsum != 0):\n",
      "        num_errors += 1\n",
      "\n",
      "print num_errors"
     ],
     "language": "python",
     "metadata": {},
     "outputs": [
      {
       "output_type": "stream",
       "stream": "stdout",
       "text": [
        "3\n"
       ]
      }
     ],
     "prompt_number": 229
    },
    {
     "cell_type": "code",
     "collapsed": false,
     "input": [
      "def read_checknodes_from_alist(alist):\n",
      "    \n",
      "    f = open('../alist/' + alist, 'r')\n",
      "    \n",
      "    line = f.readline()\n",
      "    N, M = line.split(' ')\n",
      "    \n",
      "    #print int(N)\n",
      "    #print int(M)\n",
      "    \n",
      "    line = f.readline()\n",
      "    max_col_weight, max_row_weight = line.split(' ')\n",
      "\n",
      "    #print int(max_col_weight)\n",
      "    #print int(max_row_weight)\n",
      "    \n",
      "    line = f.readline()\n",
      "    col_weights = line.split(' ')\n",
      "    col_weights.pop()\n",
      "    \n",
      "    line = f.readline()\n",
      "    row_weights = line.split(' ')\n",
      "    row_weights.pop()\n",
      "    \n",
      "    #print col_weights\n",
      "    #print row_weights\n",
      "    \n",
      "    nlist = []\n",
      "    mlist = []\n",
      "    \n",
      "    for i in range(int(N)):\n",
      "        nlist.append(f.readline().split('\\n')[0])\n",
      "        \n",
      "    \n",
      "    for i in range(int(M)):\n",
      "        mlist.append(f.readline().split('\\n')[0].split(' '))\n",
      "\n",
      "    \n",
      "    return mlist, int(N), int(M)"
     ],
     "language": "python",
     "metadata": {},
     "outputs": [],
     "prompt_number": 230
    },
    {
     "cell_type": "code",
     "collapsed": false,
     "input": [],
     "language": "python",
     "metadata": {},
     "outputs": [],
     "prompt_number": 231
    },
    {
     "cell_type": "code",
     "collapsed": false,
     "input": [],
     "language": "python",
     "metadata": {},
     "outputs": [
      {
       "metadata": {},
       "output_type": "pyout",
       "prompt_number": 233,
       "text": [
        "92"
       ]
      }
     ],
     "prompt_number": 233
    },
    {
     "cell_type": "code",
     "collapsed": false,
     "input": [
      "info = np.array(np.random.randint(0,2,M), dtype=bool)"
     ],
     "language": "python",
     "metadata": {},
     "outputs": [],
     "prompt_number": 219
    },
    {
     "cell_type": "code",
     "collapsed": false,
     "input": [
      "def ldpc_tdmp(codeword, checknodes, max_iter):\n",
      "    \n",
      "    LMN = np.zeros((max_iter, len(checknodes), len(codeword)))\n",
      "\n",
      "    result = np.zeros(len(codeword), dtype=np.uint8)\n",
      "    float_in = np.zeros(len(codeword))\n",
      "    \n",
      "    for n in range(len(codeword)):\n",
      "        if codeword[n] == 0:\n",
      "            float_in[n] = 1.0\n",
      "        else:\n",
      "            float_in[n] = -1.0\n",
      "    \n",
      "    \n",
      "\n",
      "    for i in range(max_iter):\n",
      "        \n",
      "        # loop through all checknodes\n",
      "        for m in range(len(checknodes)):\n",
      "            \n",
      "            nodes = checknodes[m]    \n",
      "\n",
      "            nodes = [ int(x)-1 for x in nodes if x != '0' and x != '']\n",
      "\n",
      "            LNM = np.zeros(len(nodes))\n",
      "            \n",
      "            # compute LNM message\n",
      "            if i == 0:\n",
      "                for n in range(len(nodes)):\n",
      "                    LNM[n] = float_in[nodes[n]]\n",
      "            else:\n",
      "                for n in range(len(nodes)):\n",
      "                    LNM[n] = float_in[nodes[n]] - LMN[i-1][m][nodes[n]]\n",
      "                    \n",
      "            # compute LMN message        \n",
      "            for n in range(len(nodes)):\n",
      "                node = nodes[n]\n",
      "                \n",
      "                sign = 1.0\n",
      "                minimum = 10000.0\n",
      "                \n",
      "                for d in range(len(nodes)):\n",
      "                    if d != n:\n",
      "                        sign *= LNM[d]\n",
      "                        \n",
      "                        if abs(LNM[d])< minimum:\n",
      "                            minimum = abs(LNM[d])\n",
      "                            \n",
      "                if sign > 0:\n",
      "                    LMN[i][m][node] =  minimum\n",
      "                else:\n",
      "                    LMN[i][m][node] =  -minimum\n",
      "                    \n",
      "            # update codeword        \n",
      "            for n in range(len(nodes)):\n",
      "                float_in[nodes[n]] = LNM[n] + LMN[i][m][nodes[n]]\n",
      "                \n",
      "    # hard decision    \n",
      "    for n in range(len(codeword)):\n",
      "        if float_in[n] <= 0:\n",
      "            result[n] = 1\n",
      "        else:\n",
      "            result[n] = 0\n",
      "            \n",
      "    return result"
     ],
     "language": "python",
     "metadata": {},
     "outputs": [],
     "prompt_number": 220
    },
    {
     "cell_type": "code",
     "collapsed": false,
     "input": [
      "\n",
      "codeword = encode_data(info, M1, M2, M3)\n",
      "\n",
      "codeword_with_errors = copy(codeword)\n",
      "codeword_with_errors[1215] = 1\n",
      "codeword_with_errors[231] = 1\n",
      "codeword_with_errors[232] = 1\n",
      "codeword_with_errors[232] = 1\n",
      "codeword_with_errors[236] = 1\n",
      "codeword_with_errors[223] = 0\n",
      "codeword_with_errors[2301] = 1"
     ],
     "language": "python",
     "metadata": {},
     "outputs": [
      {
       "ename": "TypeError",
       "evalue": "encode_data() takes exactly 5 arguments (4 given)",
       "output_type": "pyerr",
       "traceback": [
        "\u001b[0;31m---------------------------------------------------------------------------\u001b[0m\n\u001b[0;31mTypeError\u001b[0m                                 Traceback (most recent call last)",
        "\u001b[0;32m<ipython-input-221-9be00b9efc3a>\u001b[0m in \u001b[0;36m<module>\u001b[0;34m()\u001b[0m\n\u001b[1;32m      1\u001b[0m \u001b[0;34m\u001b[0m\u001b[0m\n\u001b[0;32m----> 2\u001b[0;31m \u001b[0mcodeword\u001b[0m \u001b[0;34m=\u001b[0m \u001b[0mencode_data\u001b[0m\u001b[0;34m(\u001b[0m\u001b[0minfo\u001b[0m\u001b[0;34m,\u001b[0m \u001b[0mM1\u001b[0m\u001b[0;34m,\u001b[0m \u001b[0mM2\u001b[0m\u001b[0;34m,\u001b[0m \u001b[0mM3\u001b[0m\u001b[0;34m)\u001b[0m\u001b[0;34m\u001b[0m\u001b[0m\n\u001b[0m\u001b[1;32m      3\u001b[0m \u001b[0;34m\u001b[0m\u001b[0m\n\u001b[1;32m      4\u001b[0m \u001b[0mcodeword_with_errors\u001b[0m \u001b[0;34m=\u001b[0m \u001b[0mcopy\u001b[0m\u001b[0;34m(\u001b[0m\u001b[0mcodeword\u001b[0m\u001b[0;34m)\u001b[0m\u001b[0;34m\u001b[0m\u001b[0m\n\u001b[1;32m      5\u001b[0m \u001b[0mcodeword_with_errors\u001b[0m\u001b[0;34m[\u001b[0m\u001b[0;36m1215\u001b[0m\u001b[0;34m]\u001b[0m \u001b[0;34m=\u001b[0m \u001b[0;36m1\u001b[0m\u001b[0;34m\u001b[0m\u001b[0m\n",
        "\u001b[0;31mTypeError\u001b[0m: encode_data() takes exactly 5 arguments (4 given)"
       ]
      }
     ],
     "prompt_number": 221
    },
    {
     "cell_type": "code",
     "collapsed": false,
     "input": [],
     "language": "python",
     "metadata": {},
     "outputs": [],
     "prompt_number": 221
    },
    {
     "cell_type": "code",
     "collapsed": false,
     "input": [
      "\n",
      "\n",
      "print compute_syndrome(checknodes, codeword_with_errors)\n",
      "\n",
      "\n",
      "corrected_codeword = ldpc_tdmp(codeword_with_errors, checknodes, 1)\n",
      "\n",
      "print compute_syndrome(checknodes, corrected_codeword)"
     ],
     "language": "python",
     "metadata": {},
     "outputs": [
      {
       "output_type": "stream",
       "stream": "stdout",
       "text": [
        "74\n",
        "66\n"
       ]
      }
     ],
     "prompt_number": 222
    },
    {
     "cell_type": "code",
     "collapsed": false,
     "input": [],
     "language": "python",
     "metadata": {},
     "outputs": [],
     "prompt_number": 222
    },
    {
     "cell_type": "code",
     "collapsed": false,
     "input": [],
     "language": "python",
     "metadata": {},
     "outputs": [],
     "prompt_number": 144
    },
    {
     "cell_type": "code",
     "collapsed": false,
     "input": [],
     "language": "python",
     "metadata": {},
     "outputs": [],
     "prompt_number": 88
    },
    {
     "cell_type": "code",
     "collapsed": false,
     "input": [],
     "language": "python",
     "metadata": {},
     "outputs": []
    }
   ],
   "metadata": {}
  }
 ]
}