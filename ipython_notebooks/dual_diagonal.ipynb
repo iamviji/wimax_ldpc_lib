{
 "metadata": {
  "name": "",
  "signature": "sha256:0f8deecfe71351d19ae8f55c79dcd188c9f36deb111f90065dd46f180c4e1103"
 },
 "nbformat": 3,
 "nbformat_minor": 0,
 "worksheets": [
  {
   "cells": [
    {
     "cell_type": "code",
     "collapsed": false,
     "input": [
      "%matplotlib nbagg\n",
      "import numpy as np\n",
      "import matplotlib.pyplot as plt\n",
      "import random\n",
      "import decimal\n",
      "import scipy.special\n",
      "import math\n",
      "from copy import copy"
     ],
     "language": "python",
     "metadata": {},
     "outputs": [],
     "prompt_number": 2
    },
    {
     "cell_type": "code",
     "collapsed": false,
     "input": [
      "H = [[1,1,1,0,0,1, 1,0,1,0,0,0],\n",
      "     [1,1,1,1,0,0, 0,1,0,1,0,0],\n",
      "     [0,0,0,0,1,1, 1,0,1,1,1,0],\n",
      "     [1,0,0,1,1,0, 0,0,0,1,1,1],\n",
      "     [0,1,0,1,0,0, 1,1,0,0,1,1],\n",
      "     [0,0,1,0,1,1, 0,1,1,0,0,1]]\n",
      "\n",
      "\n",
      "checknodes = [[ 0,  1,  2,  5,  6,  8],\n",
      " [ 0,  1,  2,  3,  7,  9],\n",
      " [ 4,  5,  6,  8,  9, 10],\n",
      " [ 0,  3,  4,  9, 10, 11],\n",
      " [ 1,  3,  6,  7, 10, 11],\n",
      " [ 2,  4,  5,  7,  8, 11]]\n",
      "\n",
      "info = [1,0,0,0,0,0, 0,0,0,0,0,0]\n",
      "info_out = [1,0,0,0,0,0]\n",
      "\n",
      "correct_result = [1,0,0,0,0,0, 0,1,1,0,1,0]\n",
      "\n",
      "max_index = 5\n",
      "\n",
      "print (\"info length: %d \\n\" % len(info))\n",
      "for m in range(len(checknodes)):\n",
      "    xorsum = 0\n",
      "    print checknodes[m]\n",
      "    checknode = checknodes[m]\n",
      "    for n in range(len(checknode)):\n",
      "        if(checknode[n] < max_index):\n",
      "            print checknode[n],\n",
      "            xorsum ^= info[checknode[n]]\n",
      "        else:\n",
      "            break\n",
      "            \n",
      "        print(\"\\n\"),\n",
      "        \n",
      "    print (\"xorsum: %d\\n\" % xorsum)\n",
      "    \n",
      "    info[checknode[n]] = xorsum\n",
      "    \n",
      "print info\n"
     ],
     "language": "python",
     "metadata": {},
     "outputs": [
      {
       "output_type": "stream",
       "stream": "stdout",
       "text": [
        "info length: 12 \n",
        "\n",
        "[0, 1, 2, 5, 6, 8]\n",
        "0 \n",
        "1 \n",
        "2 \n",
        "xorsum: 1\n",
        "\n",
        "[0, 1, 2, 3, 7, 9]\n",
        "0 \n",
        "1 \n",
        "2 \n",
        "3 \n",
        "xorsum: 1\n",
        "\n",
        "[4, 5, 6, 8, 9, 10]\n",
        "4 \n",
        "xorsum: 0\n",
        "\n",
        "[0, 3, 4, 9, 10, 11]\n",
        "0 \n",
        "3 \n",
        "4 \n",
        "xorsum: 1\n",
        "\n",
        "[1, 3, 6, 7, 10, 11]\n",
        "1 \n",
        "3 \n",
        "xorsum: 0\n",
        "\n",
        "[2, 4, 5, 7, 8, 11]\n",
        "2 \n",
        "4 \n",
        "xorsum: 0\n",
        "\n",
        "[1, 0, 0, 0, 0, 0, 0, 1, 0, 1, 0, 0]\n"
       ]
      }
     ],
     "prompt_number": 3
    },
    {
     "cell_type": "code",
     "collapsed": false,
     "input": [
      "H = np.array(H)\n",
      "\n",
      "P = H[0::, 6::]\n",
      "print P\n",
      "data = np.array([1,0,0,0,0,0])\n",
      "\n",
      "parity = np.dot(np.transpose(P), data)%2\n",
      "\n",
      "data = np.concatenate((data, parity))\n",
      "print data"
     ],
     "language": "python",
     "metadata": {},
     "outputs": [
      {
       "output_type": "stream",
       "stream": "stdout",
       "text": [
        "[[1 0 1 0 0 0]\n",
        " [0 1 0 1 0 0]\n",
        " [1 0 1 1 1 0]\n",
        " [0 0 0 1 1 1]\n",
        " [1 1 0 0 1 1]\n",
        " [0 1 1 0 0 1]]\n",
        "[1 0 0 0 0 0 1 0 1 0 0 0]\n"
       ]
      }
     ],
     "prompt_number": 4
    },
    {
     "cell_type": "code",
     "collapsed": false,
     "input": [
      "ru_mlist = np.array([[1,2,3,6,7,9],\n",
      "                     [1,2,3,4,8,10],\n",
      "                     [5,6,7,9,10,11],\n",
      "                     [1,4,5,10,11,12],\n",
      "                     [2,4,7,8,11,12],\n",
      "                     [3,5,6,8,9,12]])\n",
      "\n",
      "\n",
      "num_errors = 0\n",
      "print data\n",
      "\n",
      "for i in ru_mlist:\n",
      "    xorsum = 0\n",
      "\n",
      "    for k in i:\n",
      "        if (k != 0):\n",
      "            xorsum ^= data[k-1]\n",
      "\n",
      "    if (xorsum != 0):\n",
      "        print i\n",
      "        num_errors += 1\n",
      "\n",
      "print num_errors"
     ],
     "language": "python",
     "metadata": {},
     "outputs": [
      {
       "output_type": "stream",
       "stream": "stdout",
       "text": [
        "[1 0 0 0 0 0 1 0 1 0 0 0]\n",
        "[1 2 3 6 7 9]\n",
        "[ 1  2  3  4  8 10]\n",
        "[ 1  4  5 10 11 12]\n",
        "[ 2  4  7  8 11 12]\n",
        "[ 3  5  6  8  9 12]\n",
        "5\n"
       ]
      }
     ],
     "prompt_number": 5
    },
    {
     "cell_type": "code",
     "collapsed": false,
     "input": [
      "# Example from Richardson and Urbanke\n",
      "\n",
      "\n",
      "\n",
      "\n",
      "info = [1,0,0,0,0,0]\n",
      "\n",
      "info = np.array(info, dtype=np.uint8)\n",
      "\n",
      "A = [\n",
      "    [1,1,1,0,0,1],\n",
      "    [1,1,1,1,0,0],\n",
      "    [0,0,0,0,1,1],\n",
      "    [1,0,0,1,1,0]\n",
      "    ]\n",
      "\n",
      "A = np.array(A, dtype=np.uint8)\n",
      "\n",
      "B = [[1,0],\n",
      "     [0,1],\n",
      "     [1,0],\n",
      "     [0,0]]\n",
      "\n",
      "B = np.array(B, dtype=np.uint8)\n",
      "\n",
      "T = [[1,0,0,0],\n",
      "     [0,1,0,0],1,0,0,0,0,0, 0,1,1\n",
      "     [1,1,1,0],\n",
      "     [0,1,1,1]]\n",
      "\n",
      "T = np.array(T, dtype=np.uint8)\n",
      "\n",
      "C = [[0,1,0,1,0,0],\n",
      "     [0,0,1,0,1,1]]\n",
      "\n",
      "C = np.array(C, dtype=np.uint8)\n",
      "\n",
      "D = [[1,1],\n",
      "     [0,1]]\n",
      "\n",
      "D = np.array(D, dtype=np.uint8)\n",
      "\n",
      "E = [[0,0,1,1],\n",
      "     [1,0,0,1]]\n",
      "\n",
      "E = np.array(E, dtype=np.uint8)\n",
      "\n",
      "#print T\n",
      "\n",
      "T = np.linalg.inv(T) % 2\n",
      "\n",
      "#print T\n",
      "\n",
      "AsT = np.dot(A, info) % 2\n",
      "\n",
      "AsT = np.dot(T, AsT) % 2\n",
      "\n",
      "AsT = np.dot(-E, AsT) % 2\n",
      "\n",
      "phi = (-np.dot(np.dot(E, T)%2, B)%2 + D) %2\n",
      "\n",
      "p1 = AsT + np.dot(C, info)%2\n",
      "\n",
      "p1 = np.dot(phi, p1)% 2\n",
      "\n",
      "\n",
      "p2 = np.dot(A, info)%2 + np.dot(B, p1)%2\n",
      "p2 = np.dot(T, p2)%2\n",
      "\n",
      "\n",
      "#print np.concatenate((info,print checknodes p1, p2))\n",
      "\n",
      "ru_codeword = np.array(np.concatenate((info, p1, p2)), dtype=np.uint8)"
     ],
     "language": "python",
     "metadata": {},
     "outputs": [
      {
       "ename": "TypeError",
       "evalue": "'int' object has no attribute '__getitem__'",
       "output_type": "pyerr",
       "traceback": [
        "\u001b[0;31m---------------------------------------------------------------------------\u001b[0m\n\u001b[0;31mTypeError\u001b[0m                                 Traceback (most recent call last)",
        "\u001b[0;32m<ipython-input-6-f8c426b0fb22>\u001b[0m in \u001b[0;36m<module>\u001b[0;34m()\u001b[0m\n\u001b[1;32m     26\u001b[0m T = [[1,0,0,0],\n\u001b[1;32m     27\u001b[0m      \u001b[0;34m[\u001b[0m\u001b[0;36m0\u001b[0m\u001b[0;34m,\u001b[0m\u001b[0;36m1\u001b[0m\u001b[0;34m,\u001b[0m\u001b[0;36m0\u001b[0m\u001b[0;34m,\u001b[0m\u001b[0;36m0\u001b[0m\u001b[0;34m]\u001b[0m\u001b[0;34m,\u001b[0m\u001b[0;36m1\u001b[0m\u001b[0;34m,\u001b[0m\u001b[0;36m0\u001b[0m\u001b[0;34m,\u001b[0m\u001b[0;36m0\u001b[0m\u001b[0;34m,\u001b[0m\u001b[0;36m0\u001b[0m\u001b[0;34m,\u001b[0m\u001b[0;36m0\u001b[0m\u001b[0;34m,\u001b[0m\u001b[0;36m0\u001b[0m\u001b[0;34m,\u001b[0m \u001b[0;36m0\u001b[0m\u001b[0;34m,\u001b[0m\u001b[0;36m1\u001b[0m\u001b[0;34m,\u001b[0m\u001b[0;36m1\u001b[0m\u001b[0;34m\u001b[0m\u001b[0m\n\u001b[0;32m---> 28\u001b[0;31m      \u001b[0;34m[\u001b[0m\u001b[0;36m1\u001b[0m\u001b[0;34m,\u001b[0m\u001b[0;36m1\u001b[0m\u001b[0;34m,\u001b[0m\u001b[0;36m1\u001b[0m\u001b[0;34m,\u001b[0m\u001b[0;36m0\u001b[0m\u001b[0;34m]\u001b[0m\u001b[0;34m,\u001b[0m\u001b[0;34m\u001b[0m\u001b[0m\n\u001b[0m\u001b[1;32m     29\u001b[0m      [0,1,1,1]]\n\u001b[1;32m     30\u001b[0m \u001b[0;34m\u001b[0m\u001b[0m\n",
        "\u001b[0;31mTypeError\u001b[0m: 'int' object has no attribute '__getitem__'"
       ]
      }
     ],
     "prompt_number": 6
    },
    {
     "cell_type": "code",
     "collapsed": false,
     "input": [
      "print ru_codeword"
     ],
     "language": "python",
     "metadata": {},
     "outputs": [
      {
       "ename": "NameError",
       "evalue": "name 'ru_codeword' is not defined",
       "output_type": "pyerr",
       "traceback": [
        "\u001b[0;31m---------------------------------------------------------------------------\u001b[0m\n\u001b[0;31mNameError\u001b[0m                                 Traceback (most recent call last)",
        "\u001b[0;32m<ipython-input-7-f7d04e76709b>\u001b[0m in \u001b[0;36m<module>\u001b[0;34m()\u001b[0m\n\u001b[0;32m----> 1\u001b[0;31m \u001b[0;32mprint\u001b[0m \u001b[0mru_codeword\u001b[0m\u001b[0;34m\u001b[0m\u001b[0m\n\u001b[0m",
        "\u001b[0;31mNameError\u001b[0m: name 'ru_codeword' is not defined"
       ]
      }
     ],
     "prompt_number": 7
    },
    {
     "cell_type": "code",
     "collapsed": false,
     "input": [
      "def create_H_from_alist(alist):\n",
      "    \n",
      "    f = open(alist, 'r')\n",
      "    \n",
      "    line = f.readline()\n",
      "    N, M = line.split(' ')\n",
      "    \n",
      "    print int(N)\n",
      "    print int(M)\n",
      "    \n",
      "    line = f.readline()\n",
      "    max_col_weight, max_row_weight = line.split(' ')\n",
      "\n",
      "    #print int(max_col_weight)\n",
      "    #print int(max_row_weight)\n",
      "    \n",
      "    line = f.readline()\n",
      "    col_weights = line.split(' ')\n",
      "    col_weights.pop()\n",
      "    \n",
      "    line = f.readline()\n",
      "    row_weights = line.split(' ')\n",
      "    row_weights.pop()\n",
      "    \n",
      "    #print col_weights\n",
      "    #print row_weights\n",
      "    \n",
      "    nlist = []\n",
      "    mlist = []\n",
      "    \n",
      "    for i in range(int(N)):\n",
      "        nlist.append(f.readline().split('\\n')[0])\n",
      "        \n",
      "    \n",
      "    for i in range(int(M)):\n",
      "        mlist.append(f.readline().split('\\n')[0])\n",
      "    \n",
      "    \n",
      "    # create 2304 x 1152 matrix\n",
      "    H = np.zeros((int(M), int(N)), dtype=np.uint8)\n",
      "    \n",
      "    \n",
      "    for i in range(int(M)):\n",
      "        indices = mlist[i].split(' ')[0:int(max_row_weight)]\n",
      "        indices = [ int(x)-1 for x in indices ]\n",
      "    \n",
      "        #print indices\n",
      "        for k in indices:\n",
      "            if k != -1:\n",
      "                H[i][k] = 1\n",
      "        \n",
      "        \n",
      "    \n",
      "    f.close()\n",
      "    \n",
      "    \n",
      "    return H, int(N), int(M)"
     ],
     "language": "python",
     "metadata": {},
     "outputs": [],
     "prompt_number": 160
    },
    {
     "cell_type": "code",
     "collapsed": false,
     "input": [
      "H, N, M = create_H_from_alist('../alist/wimax_576_0_66B.alist')"
     ],
     "language": "python",
     "metadata": {},
     "outputs": [
      {
       "output_type": "stream",
       "stream": "stdout",
       "text": [
        "576\n",
        "192\n"
       ]
      }
     ],
     "prompt_number": 319
    },
    {
     "cell_type": "code",
     "collapsed": false,
     "input": [
      "h_matrix_23B = [2,  -1,  19,  -1,  47,  -1,  48,  -1,  36,  -1,  82,  -1,  47,  -1,  15,  -1,  95,  0,  -1,  -1,  -1,  -1,  -1,  -1, \n",
      " -1,  69,  -1,  88,  -1,  33,  -1,  3,  -1,  16,  -1,  37,  -1,  40,  -1,  48,  -1,  0,  0,  -1,  -1,  -1,  -1,  -1, \n",
      " 10,  -1,  86,  -1,  62,  -1,  28,  -1,  85,  -1,  16,  -1,  34,  -1,  73,  -1,  -1,  -1,  0,  0,  -1,  -1,  -1,  -1, \n",
      " -1,  28,  -1,  32,  -1,  81,  -1,  27,  -1,  88,  -1,  5,  -1,  56,  -1,  37,  -1,  -1,  -1,  0,  0,  -1,  -1,  -1, \n",
      " 23,  -1,  29,  -1,  15,  -1,  30,  -1,  66,  -1,  24,  -1,  50,  -1,  62,  -1,  -1,  -1,  -1,  -1,  0,  0,  -1,  -1, \n",
      " -1,  30,  -1,  65,  -1,  54,  -1,  14,  -1,  0,  -1,  30,  -1,  74,  -1,  0,  -1,  -1,  -1,  -1,  -1,  0,  0,  -1, \n",
      " 32,  -1,  0,  -1,  15,  -1,  56,  -1,  85,  -1,  5,  -1,  6,  -1,  52,  -1,  0,  -1,  -1,  -1,  -1,  -1,  0,  0, \n",
      " -1,  0,  -1,  47,  -1,  13,  -1,  61,  -1,  84,  -1,  55,  -1,  78,  -1,  41,  95,  -1,  -1,  -1,  -1,  -1,  -1,  0]\n",
      "\n",
      "h_b1 = [[2,  -1,  19,  -1,  47,  -1,  48,  -1,  36,  -1,  82,  -1,  47,  -1,  15,  -1],\n",
      " [-1,  69,  -1,  88,  -1,  33,  -1,  3,  -1,  16,  -1,  37,  -1,  40,  -1,  48],\n",
      " [10,  -1,  86,  -1,  62,  -1,  28,  -1,  85,  -1,  16,  -1,  34,  -1,  73,  -1],\n",
      " [-1,  28,  -1,  32,  -1,  81,  -1,  27,  -1,  88,  -1,  5,  -1,  56,  -1,  37],\n",
      " [23,  -1,  29,  -1,  15,  -1,  30,  -1,  66,  -1,  24,  -1,  50,  -1,  62,  -1],\n",
      " [-1,  30,  -1,  65,  -1,  54,  -1,  14,  -1,  0,  -1,  30,  -1,  74,  -1,  0],\n",
      " [32,  -1,  0,  -1,  15,  -1,  56,  -1,  85,  -1,  5,  -1,  6,  -1,  52,  -1],  \n",
      " [-1,  0,  -1,  47,  -1,  13,  -1,  61,  -1,  84,  -1,  55,  -1,  78,  -1,  41]]\n",
      "\n",
      "h_b2 = [[95,  0,  -1,  -1,  -1,  -1,  -1,  -1], \n",
      " [-1,  0,  0,  -1,  -1,  -1,  -1,  -1], \n",
      " [-1,  -1,  0,  0,  -1,  -1,  -1,  -1], \n",
      " [-1,  -1,  -1,  0,  0,  -1,  -1,  -1], \n",
      " [-1,  -1,  -1,  -1,  0,  0,  -1,  -1], \n",
      " [-1,  -1,  -1,  -1,  -1,  0,  0,  -1], \n",
      " [0,  -1,  -1,  -1,  -1,  -1,  0,  0], \n",
      " [95,  -1,  -1,  -1,  -1,  -1,  -1,  0]]"
     ],
     "language": "python",
     "metadata": {},
     "outputs": [],
     "prompt_number": 320
    },
    {
     "cell_type": "code",
     "collapsed": false,
     "input": [
      "BASE_H_SIZE = 24\n",
      "\n",
      "Z = N / BASE_H_SIZE"
     ],
     "language": "python",
     "metadata": {},
     "outputs": [],
     "prompt_number": 321
    },
    {
     "cell_type": "code",
     "collapsed": false,
     "input": [
      "info = np.array(np.random.randint(0,2,N-M), dtype=np.uint8)\n",
      "\n",
      "H_b1 = H[0::, 0:N-M]\n",
      "H_b2 = H[0::, N-M::]\n",
      "\n",
      "print len(H_b2[0])\n",
      "V = np.dot(H_b1, info)%2\n",
      "\n",
      "B_b2_inv = T = np.linalg.inv(H_b2)%2\n",
      "\n",
      "p = np.dot(B_b2_inv, H_b1)%2\n",
      "p = np.array(np.dot(p, info)%2, dtype=np.uint8)\n",
      "\n"
     ],
     "language": "python",
     "metadata": {},
     "outputs": [
      {
       "output_type": "stream",
       "stream": "stdout",
       "text": [
        "192\n"
       ]
      }
     ],
     "prompt_number": 322
    },
    {
     "cell_type": "code",
     "collapsed": false,
     "input": [
      "\n",
      "        "
     ],
     "language": "python",
     "metadata": {},
     "outputs": [],
     "prompt_number": 322
    },
    {
     "cell_type": "code",
     "collapsed": false,
     "input": [
      "p_p = np.zeros(M, dtype=np.uint8)\n",
      "p_y = np.zeros(Z, dtype=np.uint8)\n",
      "p_y2 = np.zeros(Z, dtype=np.uint8)\n",
      "\n",
      "X=6\n",
      "\n",
      "#fwd sub : p_i = l_i-1  + p_i-1'\n",
      "for i in range(Z, X*Z):\n",
      "    p_p[i] = V[i-Z] ^ p_p[i-Z]\n",
      "    count += 1\n",
      "    \n",
      "\n",
      "#M-1 : p_i = l_m-1  + p_0'd\n",
      "for i in range(M-1, 167, -1):\n",
      "    p_p[i] = V[i] ^ p_p[(M-1)-i]\n",
      "    \n",
      "#back sub : p_i = l_i  + p_i+1'\n",
      "for i in range(167, (X+1)*Z -1, -1):\n",
      "    p_p[i] = V[i] ^ p_p[i+Z]\n",
      "    \n",
      "# Y : p_y = l_x + P_x+1\n",
      "for i in range(X*Z, X*Z + Z):\n",
      "    p_p[i] = V[i] ^ p_p[Z+i]\n",
      "    p_y[X*Z - i] = p_p[i]\n",
      "    \n",
      "print p_y\n",
      "\n",
      " \n",
      "# P0\n",
      "for i in range(0, Z):\n",
      "    p_p[i] = p_y[i] ^ p_p[Z*X+i]\n",
      "    \n",
      "f = np.roll(p_p[0:Z], -95)\n",
      "\n",
      "p_out = np.zeros(M, dtype=np.uint8)\n",
      "\n",
      "print p_p \n",
      "\n",
      "for i in range(M):\n",
      "    p_out[i] = p_p[i] ^ f[i%Z]\n",
      "    \n",
      "p_out"
     ],
     "language": "python",
     "metadata": {},
     "outputs": [
      {
       "output_type": "stream",
       "stream": "stdout",
       "text": [
        "[1 1 1 1 1 1 0 1 0 0 0 1 1 0 0 1 0 0 0 1 1 1 0 1]\n",
        "[0 0 1 0 0 0 0 1 0 1 0 1 0 1 0 1 0 1 0 0 0 0 1 0 0 0 0 0 1 1 0 0 1 1 1 1 1\n",
        " 1 1 1 0 1 1 1 1 1 1 0 0 1 0 0 0 1 1 0 0 0 1 1 1 1 1 1 1 0 1 1 1 0 1 0 0 1\n",
        " 1 0 1 0 1 1 1 1 1 0 0 0 0 0 1 1 1 1 0 0 1 1 0 1 1 1 1 1 0 0 1 0 1 0 0 0 0\n",
        " 0 0 0 0 0 1 1 0 1 0 1 0 0 0 0 1 1 1 0 1 1 0 0 0 0 0 1 1 1 1 1 1 0 1 1 0 1\n",
        " 1 1 0 0 0 1 0 0 1 1 0 0 0 1 0 1 1 1 1 1 1 1 0 0 0 1 1 0 0 1 1 0 1 0 1 1 0\n",
        " 0 0 1 1 1 1 1]\n"
       ]
      },
      {
       "metadata": {},
       "output_type": "pyout",
       "prompt_number": 387,
       "text": [
        "array([0, 0, 1, 1, 0, 0, 0, 1, 1, 1, 1, 1, 1, 1, 1, 1, 1, 1, 1, 0, 0, 0, 1,\n",
        "       1, 0, 0, 0, 1, 1, 1, 0, 0, 0, 1, 0, 1, 0, 1, 0, 1, 1, 1, 0, 1, 1, 1,\n",
        "       1, 1, 0, 1, 0, 1, 0, 1, 1, 0, 1, 0, 0, 1, 0, 1, 0, 1, 0, 0, 0, 1, 1,\n",
        "       0, 1, 1, 0, 1, 1, 1, 1, 0, 1, 1, 0, 1, 0, 0, 1, 0, 1, 0, 0, 1, 0, 1,\n",
        "       0, 0, 1, 0, 0, 1, 1, 0, 1, 1, 0, 0, 0, 0, 0, 0, 1, 0, 1, 0, 1, 0, 1,\n",
        "       0, 1, 1, 0, 0, 0, 1, 0, 1, 0, 0, 1, 1, 0, 0, 0, 1, 1, 0, 1, 0, 1, 1,\n",
        "       0, 1, 1, 1, 1, 1, 1, 1, 0, 0, 1, 1, 0, 0, 1, 1, 1, 0, 0, 1, 1, 0, 1,\n",
        "       1, 1, 1, 1, 1, 1, 0, 1, 1, 0, 1, 0, 1, 1, 0, 1, 1, 0, 0, 0, 0, 0, 1,\n",
        "       1, 0, 1, 1, 1, 1, 1, 0], dtype=uint8)"
       ]
      }
     ],
     "prompt_number": 387
    },
    {
     "cell_type": "code",
     "collapsed": false,
     "input": [
      "out = np.array(np.concatenate((info, p_out)), dtype=np.uint8)\n",
      "print out"
     ],
     "language": "python",
     "metadata": {},
     "outputs": [
      {
       "output_type": "stream",
       "stream": "stdout",
       "text": [
        "[0 0 1 1 1 0 1 1 1 1 0 1 1 1 1 0 0 0 0 0 1 0 1 0 0 0 0 0 1 0 1 1 0 0 0 1 1\n",
        " 0 1 0 0 0 1 0 0 1 1 0 0 0 1 0 1 0 0 1 1 1 0 0 1 0 0 1 1 1 0 1 0 0 0 0 0 0\n",
        " 1 0 0 0 0 1 0 1 0 1 0 0 1 0 0 0 1 1 1 0 0 0 0 1 1 0 0 0 1 0 0 1 1 0 1 0 1\n",
        " 0 0 0 0 0 1 1 0 0 0 1 1 0 0 0 0 0 0 0 0 0 0 0 0 0 1 0 0 1 1 1 1 0 0 0 1 1\n",
        " 1 0 1 0 1 1 0 0 1 1 0 1 1 0 1 0 1 1 0 0 1 1 0 0 0 1 0 0 1 1 0 0 1 0 0 0 0\n",
        " 1 1 0 1 0 1 0 0 0 1 0 0 1 1 1 1 0 0 1 1 1 1 1 0 1 1 0 0 0 0 0 1 0 1 1 0 0\n",
        " 0 0 0 0 1 0 1 0 0 0 0 0 0 0 1 1 1 0 1 0 0 0 1 0 0 0 1 0 0 1 1 1 1 0 1 1 0\n",
        " 1 1 1 1 1 0 0 0 0 0 0 1 0 1 0 1 0 1 0 0 0 0 0 0 1 0 1 1 1 0 1 1 0 1 1 0 0\n",
        " 0 0 1 0 1 1 1 1 0 0 1 0 1 0 0 0 1 1 1 1 0 0 1 1 1 0 0 1 0 1 0 0 1 0 1 1 0\n",
        " 0 0 1 0 1 0 1 0 0 1 1 1 1 0 0 0 0 1 0 1 1 0 0 0 0 0 1 1 1 0 1 0 1 0 1 0 1\n",
        " 0 0 1 1 0 0 1 0 1 0 1 0 1 1 0 0 1 1 0 0 0 1 1 1 1 1 1 1 1 1 1 1 1 0 0 0 1\n",
        " 1 0 0 0 1 1 1 0 0 0 1 0 1 0 1 0 1 1 1 0 1 1 1 1 1 0 1 0 1 0 1 1 0 1 0 0 1\n",
        " 0 1 0 1 0 0 0 1 1 0 1 1 0 1 1 1 1 0 1 1 0 1 0 0 1 0 1 0 0 1 0 1 0 0 1 0 0\n",
        " 1 1 0 1 1 0 0 0 0 0 0 1 0 1 0 1 0 1 0 1 1 0 0 0 1 0 1 0 0 1 1 0 0 0 1 1 0\n",
        " 1 0 1 1 0 1 1 1 1 1 1 1 0 0 1 1 0 0 1 1 1 0 0 1 1 0 1 1 1 1 1 1 1 0 1 1 0\n",
        " 1 0 1 1 0 1 1 0 0 0 0 0 1 1 0 1 1 1 1 1 0]\n"
       ]
      }
     ],
     "prompt_number": 388
    },
    {
     "cell_type": "code",
     "collapsed": false,
     "input": [
      "def read_checknodes_from_alist(alist):\n",
      "    \n",
      "    f = open(alist, 'r')\n",
      "    \n",
      "    line = f.readline()\n",
      "    N, M = line.split(' ')\n",
      "    \n",
      "    #print int(N)\n",
      "    #print int(M)\n",
      "    \n",
      "    line = f.readline()\n",
      "    max_col_weight, max_row_weight = line.split(' ')\n",
      "\n",
      "    #print int(max_col_weight)\n",
      "    #print int(max_row_weight)\n",
      "    \n",
      "    line = f.readline()\n",
      "    col_weights = line.split(' ')\n",
      "    col_weights.pop()\n",
      "    \n",
      "    line = f.readline()\n",
      "    row_weights = line.split(' ')\n",
      "    row_weights.pop()\n",
      "    \n",
      "    #print col_weights\n",
      "    #print row_weights\n",
      "    \n",
      "    nlist = []\n",
      "    mlist = []\n",
      "    \n",
      "    for i in range(int(N)):\n",
      "        nlist.append(f.readline().split('\\n')[0])\n",
      "        \n",
      "    \n",
      "    for i in range(int(M)):\n",
      "        mlist.append(f.readline().split('\\n')[0].split(' '))\n",
      "\n",
      "    \n",
      "    return mlist, int(N), int(M)"
     ],
     "language": "python",
     "metadata": {},
     "outputs": [],
     "prompt_number": 389
    },
    {
     "cell_type": "code",
     "collapsed": false,
     "input": [
      "checknodes, decode_N, decode_M = read_checknodes_from_alist('../alist/wimax_576_0_66B.alist')"
     ],
     "language": "python",
     "metadata": {},
     "outputs": [],
     "prompt_number": 390
    },
    {
     "cell_type": "code",
     "collapsed": false,
     "input": [
      "\n",
      "def compute_syndrome(checknodes, rx_codeword):\n",
      "    \n",
      "    num_errors = 0\n",
      "    \n",
      "    for i in checknodes:\n",
      "        indices = i\n",
      "        xorsum = 0\n",
      "        \n",
      "        for k in indices:\n",
      "            if (k != '' and int(k) != 0):\n",
      "                xorsum ^= rx_codeword[int(k)-1]\n",
      "        \n",
      "        if (xorsum != 0):\n",
      "            num_errors += 1\n",
      "    \n",
      "    return num_errors\n",
      "    "
     ],
     "language": "python",
     "metadata": {},
     "outputs": [],
     "prompt_number": 391
    },
    {
     "cell_type": "code",
     "collapsed": false,
     "input": [
      "codeword_with_errors = out\n",
      "#codeword_with_errors[1215] = 1\n",
      "\n",
      "compute_syndrome(checknodes, codeword_with_errors)"
     ],
     "language": "python",
     "metadata": {},
     "outputs": [
      {
       "metadata": {},
       "output_type": "pyout",
       "prompt_number": 392,
       "text": [
        "44"
       ]
      }
     ],
     "prompt_number": 392
    },
    {
     "cell_type": "code",
     "collapsed": false,
     "input": [],
     "language": "python",
     "metadata": {},
     "outputs": [],
     "prompt_number": 392
    },
    {
     "cell_type": "code",
     "collapsed": false,
     "input": [
      "\n"
     ],
     "language": "python",
     "metadata": {},
     "outputs": [],
     "prompt_number": 328
    },
    {
     "cell_type": "code",
     "collapsed": false,
     "input": [],
     "language": "python",
     "metadata": {},
     "outputs": [],
     "prompt_number": 104
    },
    {
     "cell_type": "code",
     "collapsed": false,
     "input": [
      "\n",
      "            "
     ],
     "language": "python",
     "metadata": {},
     "outputs": [],
     "prompt_number": 104
    },
    {
     "cell_type": "code",
     "collapsed": false,
     "input": [],
     "language": "python",
     "metadata": {},
     "outputs": [],
     "prompt_number": 104
    },
    {
     "cell_type": "code",
     "collapsed": false,
     "input": [],
     "language": "python",
     "metadata": {},
     "outputs": [],
     "prompt_number": 104
    },
    {
     "cell_type": "code",
     "collapsed": false,
     "input": [],
     "language": "python",
     "metadata": {},
     "outputs": []
    }
   ],
   "metadata": {}
  }
 ]
}