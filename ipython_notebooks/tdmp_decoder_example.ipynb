{
 "metadata": {
  "name": "",
  "signature": "sha256:42c6ce5a07d8f013e148195a8692e03d2ecb96e510bfffd239107031fbb71bf1"
 },
 "nbformat": 3,
 "nbformat_minor": 0,
 "worksheets": [
  {
   "cells": [
    {
     "cell_type": "code",
     "collapsed": false,
     "input": [
      "#%matplotlib nbagg\n",
      "import numpy as np\n",
      "import matplotlib.pyplot as plt\n",
      "import random\n",
      "import decimal\n",
      "import scipy.special\n",
      "import math\n",
      "from copy import copy\n",
      "\n",
      "import sys\n",
      "sys.path.append('../python_ldpc')\n",
      "\n",
      "import ldpc_encoder"
     ],
     "language": "python",
     "metadata": {},
     "outputs": [],
     "prompt_number": 1
    },
    {
     "cell_type": "code",
     "collapsed": false,
     "input": [
      "# set up the LDPC encoder\n",
      "\n",
      "alist_file = \"../alist/wimax_2304_0_5.alist\"\n",
      "\n",
      "encoder = ldpc_encoder.ldpc_encoder(alist_file, 5, 7, False)"
     ],
     "language": "python",
     "metadata": {},
     "outputs": [],
     "prompt_number": 2
    },
    {
     "cell_type": "code",
     "collapsed": false,
     "input": [
      "# Generate Random Data to transmit \n",
      "\n",
      "data = np.random.randint(0,2, encoder.N/2, dtype=np.uint8)"
     ],
     "language": "python",
     "metadata": {},
     "outputs": [],
     "prompt_number": 3
    },
    {
     "cell_type": "code",
     "collapsed": false,
     "input": [
      "# Encode Data\n",
      "\n",
      "encoded_data = encoder.encode_data(data)"
     ],
     "language": "python",
     "metadata": {},
     "outputs": [],
     "prompt_number": 4
    },
    {
     "cell_type": "code",
     "collapsed": false,
     "input": [
      "def compute_syndrome(checknodes, rx_codeword):\n",
      "    \n",
      "    num_errors = 0\n",
      "    \n",
      "    for i in checknodes:\n",
      "        indices = i\n",
      "        xorsum = 0\n",
      "        \n",
      "        for k in indices:\n",
      "            if (k != '' and int(k) != 0):\n",
      "                xorsum ^= rx_codeword[int(k)-1]\n",
      "        \n",
      "        if (xorsum != 0):\n",
      "            num_errors += 1\n",
      "    \n",
      "    return num_errors"
     ],
     "language": "python",
     "metadata": {},
     "outputs": [],
     "prompt_number": 5
    },
    {
     "cell_type": "code",
     "collapsed": false,
     "input": [
      "def read_checknodes_from_alist(alist):\n",
      "    \n",
      "    f = open('../alist/' + alist, 'r')\n",
      "    \n",
      "    line = f.readline()\n",
      "    N, M = line.split(' ')\n",
      "    \n",
      "    #print int(N)\n",
      "    #print int(M)\n",
      "    \n",
      "    line = f.readline()\n",
      "    max_col_weight, max_row_weight = line.split(' ')\n",
      "\n",
      "    #print int(max_col_weight)\n",
      "    #print int(max_row_weight)\n",
      "    \n",
      "    line = f.readline()\n",
      "    col_weights = line.split(' ')\n",
      "    col_weights.pop()\n",
      "    \n",
      "    line = f.readline()\n",
      "    row_weights = line.split(' ')\n",
      "    row_weights.pop()\n",
      "    \n",
      "    #print col_weights\n",
      "    #print row_weights\n",
      "    \n",
      "    nlist = []\n",
      "    mlist = []\n",
      "    \n",
      "    for i in range(int(N)):\n",
      "        nlist.append(f.readline().split('\\n')[0])\n",
      "        \n",
      "    \n",
      "    for i in range(int(M)):\n",
      "        mlist.append(f.readline().split('\\n')[0].split(' '))\n",
      "\n",
      "    \n",
      "    return mlist, int(N), int(M)"
     ],
     "language": "python",
     "metadata": {},
     "outputs": [],
     "prompt_number": 6
    },
    {
     "cell_type": "code",
     "collapsed": false,
     "input": [
      "def ldpc_tdmp(codeword, checknodes, max_iter):\n",
      "    \n",
      "    LMN = np.zeros((max_iter, len(checknodes), len(codeword)))\n",
      "\n",
      "    result = np.zeros(len(codeword), dtype=np.uint8)\n",
      "    float_in = np.zeros(len(codeword))\n",
      "    \n",
      "    for n in range(len(codeword)):\n",
      "        if codeword[n] == 0:\n",
      "            float_in[n] = 1.0\n",
      "        else:\n",
      "            float_in[n] = -1.0\n",
      "    \n",
      "    \n",
      "\n",
      "    for i in range(max_iter):\n",
      "        \n",
      "        # loop through all checknodes\n",
      "        for m in range(len(checknodes)):\n",
      "            \n",
      "            nodes = checknodes[m]    \n",
      "\n",
      "            nodes = [ int(x)-1 for x in nodes if x != '0' and x != '']\n",
      "\n",
      "            LNM = np.zeros(len(nodes))\n",
      "            \n",
      "            # compute LNM message\n",
      "            if i == 0:\n",
      "                for n in range(len(nodes)):\n",
      "                    LNM[n] = float_in[nodes[n]]\n",
      "            else:\n",
      "                for n in range(len(nodes)):\n",
      "                    LNM[n] = float_in[nodes[n]] - LMN[i-1][m][nodes[n]]\n",
      "                    \n",
      "            # compute LMN message        \n",
      "            for n in range(len(nodes)):\n",
      "                node = nodes[n]\n",
      "                \n",
      "                sign = 1.0\n",
      "                minimum = 10000.0\n",
      "                \n",
      "                for d in range(len(nodes)):\n",
      "                    if d != n:\n",
      "                        sign *= LNM[d]\n",
      "                        \n",
      "                        if abs(LNM[d])< minimum:\n",
      "                            minimum = abs(LNM[d])\n",
      "                            \n",
      "                if sign > 0:\n",
      "                    LMN[i][m][node] =  minimum\n",
      "                else:\n",
      "                    LMN[i][m][node] =  -minimum\n",
      "                    \n",
      "            # update codeword        \n",
      "            for n in range(len(nodes)):\n",
      "                float_in[nodes[n]] = LNM[n] + LMN[i][m][nodes[n]]\n",
      "                \n",
      "    # hard decision    \n",
      "    for n in range(len(codeword)):\n",
      "        if float_in[n] <= 0:\n",
      "            result[n] = 1\n",
      "        else:\n",
      "            result[n] = 0\n",
      "            \n",
      "    return result"
     ],
     "language": "python",
     "metadata": {},
     "outputs": [],
     "prompt_number": 7
    },
    {
     "cell_type": "code",
     "collapsed": false,
     "input": [
      "checknodes, N, M = read_checknodes_from_alist(alist_file)\n",
      "\n",
      "codeword_with_errors = copy(encoded_data)\n",
      "num_errors_to_add = 10\n",
      "\n",
      "for i in range(num_errors_to_add):\n",
      "    index = np.random.randint(0, N)\n",
      "    codeword_with_errors[index] = not codeword_with_errors[index]\n"
     ],
     "language": "python",
     "metadata": {},
     "outputs": [],
     "prompt_number": 8
    },
    {
     "cell_type": "code",
     "collapsed": false,
     "input": [
      "\n",
      "print compute_syndrome(checknodes, codeword_with_errors)\n",
      "\n",
      "corrected_codeword = ldpc_tdmp(codeword_with_errors, checknodes, 10)\n",
      "\n",
      "print compute_syndrome(checknodes, corrected_codeword)"
     ],
     "language": "python",
     "metadata": {},
     "outputs": [
      {
       "output_type": "stream",
       "stream": "stdout",
       "text": [
        "25\n",
        "0"
       ]
      },
      {
       "output_type": "stream",
       "stream": "stdout",
       "text": [
        "\n"
       ]
      }
     ],
     "prompt_number": 9
    }
   ],
   "metadata": {}
  }
 ]
}