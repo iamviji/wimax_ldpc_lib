{
 "metadata": {
  "kernelspec": {
   "display_name": "Python 2",
   "language": "python",
   "name": "python2"
  },
  "language_info": {
   "codemirror_mode": {
    "name": "ipython",
    "version": 2
   },
   "file_extension": ".py",
   "mimetype": "text/x-python",
   "name": "python",
   "nbconvert_exporter": "python",
   "pygments_lexer": "ipython2",
   "version": "2.7.15rc1"
  },
  "name": "",
  "signature": "sha256:d217cba9c8ddf8c87908014be11ebe5f5fdc5c21d45b069df56a1248a0963809"
 },
 "nbformat": 3,
 "nbformat_minor": 0,
 "worksheets": [
  {
   "cells": [
    {
     "cell_type": "code",
     "collapsed": false,
     "input": [
      "%matplotlib nbagg\n",
      "import numpy as np\n",
      "import matplotlib.pyplot as plt\n",
      "import random\n",
      "import decimal\n",
      "import scipy.special\n",
      "import math\n",
      "from copy import copy\n",
      "\n",
      "import sys\n",
      "sys.path.append('../python_ldpc')\n",
      "\n",
      "import ldpc_decoder\n",
      "import ldpc_encoder\n"
     ],
     "language": "python",
     "metadata": {},
     "outputs": [],
     "prompt_number": 1
    },
    {
     "cell_type": "code",
     "collapsed": false,
     "input": [
      "# set up the LDPC encoder / decoder\n",
      "\n",
      "alist_file = \"../alist/wimax_576_0_5.alist\"\n",
      "\n",
      "encoder = ldpc_encoder.ldpc_encoder(alist_file, 5, 7, False)\n",
      "\n",
      "decoder = ldpc_decoder.ldpc_decoder(alist_file)"
     ],
     "language": "python",
     "metadata": {},
     "outputs": [],
     "prompt_number": 2
    },
    {
     "cell_type": "code",
     "collapsed": false,
     "input": [
      "# Generate Random Data to transmit \n",
      "\n",
      "data = np.random.randint(0,2, encoder.N/2, dtype=np.uint8)\n"
     ],
     "language": "python",
     "metadata": {},
     "outputs": [],
     "prompt_number": 3
    },
    {
     "cell_type": "code",
     "collapsed": false,
     "input": [
      "# Encode Data\n",
      "\n",
      "encoded_data = encoder.encode_data(data)\n"
     ],
     "language": "python",
     "metadata": {},
     "outputs": [],
     "prompt_number": 4
    },
    {
     "cell_type": "code",
     "collapsed": false,
     "input": [
      "# Check Encoded Data for Errors, there should be none at this point\n",
      "\n",
      "print (\"Num Errors: %d\\n\" % decoder.compute_syndrome(encoded_data)),"
     ],
     "language": "python",
     "metadata": {},
     "outputs": [
      {
       "output_type": "stream",
       "stream": "stdout",
       "text": [
        "Num Errors: 0\n"
       ]
      }
     ],
     "prompt_number": 5
    },
    {
     "cell_type": "code",
     "collapsed": false,
     "input": [
      "decoded_data = decoder.ldpc_tdmp(encoded_data, 10)\n",
      "\n",
      "print (decoded_data[0:288] == data).all()\n"
     ],
     "language": "python",
     "metadata": {},
     "outputs": [
      {
       "output_type": "stream",
       "stream": "stdout",
       "text": [
        "True\n"
       ]
      }
     ],
     "prompt_number": 6
    },
    {
     "cell_type": "code",
     "collapsed": false,
     "input": [
      "def add_awgn(signal, ebno_db):\n",
      "    \n",
      "    out_data = np.zeros(len(signal), dtype=np.float)\n",
      "    \n",
      "    ebno = 10.0**(ebno_db/10.0)\n",
      "    \n",
      "    noise_pow = 1/np.sqrt(2*ebno)\n",
      "\n",
      "    noise = noise_pow * np.random.randn(len(signal))\n",
      "    \n",
      "    out_data = signal + noise\n",
      "        \n",
      "    return out_data"
     ],
     "language": "python",
     "metadata": {},
     "outputs": [],
     "prompt_number": 7
    },
    {
     "cell_type": "code",
     "collapsed": false,
     "input": [
      "# Generate the data\n",
      "\n",
      "rounds = 500\n",
      "\n",
      "data = np.random.randint(0,2,encoder.N/2)\n",
      "\n",
      "#encode the data\n",
      "encoded_data = encoder.encode_data(data)\n",
      "\n",
      "# Modulate the data\n",
      "modulated_data = -2.0 * encoded_data + 1.0\n",
      "\n",
      "ebno_range = range(-20,15)\n",
      "\n",
      "ber_results = []\n",
      "\n",
      "for i in ebno_range:\n",
      "\n",
      "    errors = 0\n",
      "    for k in range(rounds):\n",
      "        # apply noise\n",
      "        received_data = add_awgn(modulated_data, i)\n",
      "\n",
      "        decoded_data = decoder.ldpc_tdmp(received_data, 10)\n",
      "        errors += (decoded_data[0:288] != data).sum()\n",
      "        #print errors\n",
      "        \n",
      "    ber_results.append(1.0 * errors / (rounds*(decoder.N/2)))"
     ],
     "language": "python",
     "metadata": {},
     "outputs": []
    },
    {
     "cell_type": "code",
     "collapsed": false,
     "input": [
      "# Plot the modulated data in the complex plane\n",
      "plt.figure()\n",
      "plt.plot(ebno_range, ber_results, 'r')\n",
      "plt.axis([-20, 15, 1e-8, 1])\n",
      "plt.yscale('log')\n",
      "plt.grid(True)\n",
      "plt.xlabel('EbNo(dB)')\n",
      "plt.ylabel('BER')\n",
      "plt.title('BPSK Bit Error Rate Curve')"
     ],
     "language": "python",
     "metadata": {},
     "outputs": []
    },
    {
     "cell_type": "code",
     "collapsed": false,
     "input": [],
     "language": "python",
     "metadata": {},
     "outputs": [],
     "prompt_number": null
    }
   ],
   "metadata": {}
  }
 ]
}