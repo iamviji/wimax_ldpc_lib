{
 "metadata": {
  "name": ""
 },
 "nbformat": 3,
 "nbformat_minor": 0,
 "worksheets": [
  {
   "cells": [
    {
     "cell_type": "code",
     "collapsed": false,
     "input": [
      "import numpy as np\n",
      "import matplotlib.pyplot as plt\n",
      "import random\n",
      "import decimal\n",
      "import scipy.special\n",
      "import math\n",
      "from copy import copy"
     ],
     "language": "python",
     "metadata": {},
     "outputs": [],
     "prompt_number": 21
    },
    {
     "cell_type": "code",
     "collapsed": false,
     "input": [
      "h_matrix_23B = [[2,  -1,  19,  -1,  47,  -1,  48,  -1,  36,  -1,  82,  -1,  47,  -1,  15,  -1,  95,  0,  -1,  -1,  -1,  -1,  -1,  -1], \n",
      "[-1,  69,  -1,  88,  -1,  33,  -1,  3,  -1,  16,  -1,  37,  -1,  40,  -1,  48,  -1,  0,  0,  -1,  -1,  -1,  -1,  -1], \n",
      "[10,  -1,  86,  -1,  62,  -1,  28,  -1,  85,  -1,  16,  -1,  34,  -1,  73,  -1,  -1,  -1,  0,  0,  -1,  -1,  -1,  -1], \n",
      "[-1,  28,  -1,  32,  -1,  81,  -1,  27,  -1,  88,  -1,  5,  -1,  56,  -1,  37,  -1,  -1,  -1,  0,  0,  -1,  -1,  -1], \n",
      "[23,  -1,  29,  -1,  15,  -1,  30,  -1,  66,  -1,  24,  -1,  50,  -1,  62,  -1,  -1,  -1,  -1,  -1,  0,  0,  -1,  -1], \n",
      "[-1,  30,  -1,  65,  -1,  54,  -1,  14,  -1,  0,  -1,  30,  -1,  74,  -1,  0,  -1,  -1,  -1,  -1,  -1,  0,  0,  -1], \n",
      "[32,  -1,  0,  -1,  15,  -1,  56,  -1,  85,  -1,  5,  -1,  6,  -1,  52,  -1,  0,  -1,  -1,  -1,  -1,  -1,  0,  0], \n",
      "[-1,  0,  -1,  47,  -1,  13,  -1,  61,  -1,  84,  -1,  55,  -1,  78,  -1,  41,  95,  -1,  -1,  -1,  -1,  -1,  -1,  0]]\n",
      "\n",
      "Z = 24\n",
      "N = 576\n",
      "rate = 2.0 / 3.0\n",
      "M = N - int(N * rate)\n",
      "K = int(N * rate)\n",
      "\n",
      "\n",
      "mb = M/Z\n",
      "kb = K/Z\n",
      "\n",
      "h_bs = np.array(h_matrix_23B)[0:mb,0:kb] \n",
      "h_bp = np.array(h_matrix_23B)[0:mb,kb::]\n",
      "\n",
      "t = h_bp[0:mb,0:1]\n",
      "h = h_bp[0:mb,1::]\n",
      "\n"
     ],
     "language": "python",
     "metadata": {},
     "outputs": [],
     "prompt_number": 126
    },
    {
     "cell_type": "code",
     "collapsed": false,
     "input": [
      "s = np.random.randint(0,2, K)"
     ],
     "language": "python",
     "metadata": {},
     "outputs": [],
     "prompt_number": 127
    },
    {
     "cell_type": "code",
     "collapsed": false,
     "input": [
      "print mb\n",
      "print kb\n",
      "print K"
     ],
     "language": "python",
     "metadata": {},
     "outputs": [
      {
       "output_type": "stream",
       "stream": "stdout",
       "text": [
        "8\n",
        "16\n",
        "384\n"
       ]
      }
     ],
     "prompt_number": 128
    },
    {
     "cell_type": "code",
     "collapsed": false,
     "input": [
      "ep = np.zeros((8, kb), dtype=np.uint8)\n",
      "\n",
      "for i in range(len(h_bs)):\n",
      "    si = s[i*kb:(i+1)*kb]\n",
      "    \n",
      "    print (i+1)*kb\n",
      "    \n",
      "    for j in range(len(h_bs[0])):\n",
      "        #print h_bs[i][j]\n",
      "        c = h_bs[i][j]\n",
      "        if c == -1:\n",
      "            ep[i] = np.zeros(kb)\n",
      "        elif c == 0:\n",
      "            ep[i] = si\n",
      "        else:\n",
      "            if c > Z/2:\n",
      "                ep[i] = np.roll(si, c - Z/2)\n",
      "            else:\n",
      "                ep[i] = np.roll(si, c) \n"
     ],
     "language": "python",
     "metadata": {},
     "outputs": [
      {
       "output_type": "stream",
       "stream": "stdout",
       "text": [
        "16\n",
        "32\n",
        "48\n",
        "64\n",
        "80\n",
        "96\n",
        "112\n",
        "128\n"
       ]
      }
     ],
     "prompt_number": 129
    },
    {
     "cell_type": "code",
     "collapsed": false,
     "input": [
      "v = np.zeros(kb, dtype=np.uint8)\n",
      "\n",
      "for i in range(kb):\n",
      "    for j in range(Z):\n",
      "        v[i] ^= ep[i][j]\n",
      "        \n",
      "print v"
     ],
     "language": "python",
     "metadata": {},
     "outputs": [
      {
       "ename": "IndexError",
       "evalue": "index out of bounds",
       "output_type": "pyerr",
       "traceback": [
        "\u001b[0;31m---------------------------------------------------------------------------\u001b[0m\n\u001b[0;31mIndexError\u001b[0m                                Traceback (most recent call last)",
        "\u001b[0;32m<ipython-input-136-7e28c60207c7>\u001b[0m in \u001b[0;36m<module>\u001b[0;34m()\u001b[0m\n\u001b[1;32m      3\u001b[0m \u001b[0;32mfor\u001b[0m \u001b[0mi\u001b[0m \u001b[0;32min\u001b[0m \u001b[0mrange\u001b[0m\u001b[0;34m(\u001b[0m\u001b[0mkb\u001b[0m\u001b[0;34m)\u001b[0m\u001b[0;34m:\u001b[0m\u001b[0;34m\u001b[0m\u001b[0m\n\u001b[1;32m      4\u001b[0m     \u001b[0;32mfor\u001b[0m \u001b[0mj\u001b[0m \u001b[0;32min\u001b[0m \u001b[0mrange\u001b[0m\u001b[0;34m(\u001b[0m\u001b[0mZ\u001b[0m\u001b[0;34m)\u001b[0m\u001b[0;34m:\u001b[0m\u001b[0;34m\u001b[0m\u001b[0m\n\u001b[0;32m----> 5\u001b[0;31m         \u001b[0mv\u001b[0m\u001b[0;34m[\u001b[0m\u001b[0mi\u001b[0m\u001b[0;34m]\u001b[0m \u001b[0;34m^=\u001b[0m \u001b[0mep\u001b[0m\u001b[0;34m[\u001b[0m\u001b[0mi\u001b[0m\u001b[0;34m]\u001b[0m\u001b[0;34m[\u001b[0m\u001b[0mj\u001b[0m\u001b[0;34m]\u001b[0m\u001b[0;34m\u001b[0m\u001b[0m\n\u001b[0m\u001b[1;32m      6\u001b[0m \u001b[0;34m\u001b[0m\u001b[0m\n\u001b[1;32m      7\u001b[0m \u001b[0;32mprint\u001b[0m \u001b[0mv\u001b[0m\u001b[0;34m\u001b[0m\u001b[0m\n",
        "\u001b[0;31mIndexError\u001b[0m: index out of bounds"
       ]
      }
     ],
     "prompt_number": 136
    },
    {
     "cell_type": "code",
     "collapsed": false,
     "input": [
      "p0 = 0\n",
      "for i in range(len(v)):\n",
      "    p0 ^= v[i]\n",
      "\n",
      "print p0\n",
      "\n",
      "p = np.zeros(mb, dtype=np.int8)\n",
      "p[0] = p0"
     ],
     "language": "python",
     "metadata": {},
     "outputs": [
      {
       "output_type": "stream",
       "stream": "stdout",
       "text": [
        "0\n"
       ]
      }
     ],
     "prompt_number": 135
    },
    {
     "cell_type": "code",
     "collapsed": false,
     "input": [
      "for i in range(1, mb):\n",
      "    p[i] = h_bp[0][i-1] - v[i-1]\n",
      "    \n",
      "print p"
     ],
     "language": "python",
     "metadata": {},
     "outputs": [
      {
       "output_type": "stream",
       "stream": "stdout",
       "text": [
        "[ 1 95 -1 -1 -2 -1 -2 -1]\n"
       ]
      }
     ],
     "prompt_number": 106
    },
    {
     "cell_type": "code",
     "collapsed": false,
     "input": [
      "p_bits = []\n",
      "\n",
      "for i in p:\n",
      "    p_bits.append"
     ],
     "language": "python",
     "metadata": {},
     "outputs": [],
     "prompt_number": 103
    },
    {
     "cell_type": "code",
     "collapsed": false,
     "input": [],
     "language": "python",
     "metadata": {},
     "outputs": []
    }
   ],
   "metadata": {}
  }
 ]
}