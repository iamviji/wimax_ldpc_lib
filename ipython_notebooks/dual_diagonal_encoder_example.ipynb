{
 "metadata": {
  "name": "",
  "signature": "sha256:82b9ba699c9c4f3b7695539ddc1fb6a478632e85eb43a2e6e0a6dc3c72fa41a7"
 },
 "nbformat": 3,
 "nbformat_minor": 0,
 "worksheets": [
  {
   "cells": [
    {
     "cell_type": "code",
     "collapsed": false,
     "input": [
      "import numpy as np\n",
      "import matplotlib.pyplot as plt\n",
      "import random\n",
      "import decimal\n",
      "import scipy.special\n",
      "import math\n",
      "from copy import copy\n"
     ],
     "language": "python",
     "metadata": {},
     "outputs": [],
     "prompt_number": 8
    },
    {
     "cell_type": "code",
     "collapsed": false,
     "input": [
      "def create_H_from_alist(alist):\n",
      "    \n",
      "    f = open(alist, 'r')\n",
      "    \n",
      "    line = f.readline()\n",
      "    N, M = line.split(' ')\n",
      "    \n",
      "    print (\"N: %d\\n\" % int(N)),\n",
      "    print (\"M: %d\\n\" % int(M)),\n",
      "    \n",
      "    line = f.readline()\n",
      "    max_col_weight, max_row_weight = line.split(' ')\n",
      "\n",
      "    #print int(max_col_weight)\n",
      "    #print int(max_row_weight)\n",
      "    \n",
      "    line = f.readline()\n",
      "    col_weights = line.split(' ')\n",
      "    col_weights.pop()\n",
      "    \n",
      "    line = f.readline()\n",
      "    row_weights = line.split(' ')\n",
      "    row_weights.pop()\n",
      "    \n",
      "    #print col_weights\n",
      "    #print row_weights\n",
      "    \n",
      "    nlist = []\n",
      "    mlist = []\n",
      "    \n",
      "    for i in range(int(N)):\n",
      "        nlist.append(f.readline().split('\\n')[0])\n",
      "        \n",
      "    \n",
      "    for i in range(int(M)):\n",
      "        mlist.append(f.readline().split('\\n')[0])\n",
      "    \n",
      "    \n",
      "    # create 2304 x 1152 matrix\n",
      "    H = np.zeros((int(M), int(N)), dtype=np.uint8)\n",
      "    \n",
      "    \n",
      "    for i in range(int(M)):\n",
      "        indices = mlist[i].split(' ')[0:int(max_row_weight)]\n",
      "        indices = [ int(x)-1 for x in indices ]\n",
      "    \n",
      "        #print indices\n",
      "        for k in indices:\n",
      "            if k != -1:\n",
      "                H[i][k] = 1\n",
      "        \n",
      "        \n",
      "    \n",
      "    f.close()\n",
      "    \n",
      "    \n",
      "    return H, int(N), int(M)"
     ],
     "language": "python",
     "metadata": {},
     "outputs": [],
     "prompt_number": 9
    },
    {
     "cell_type": "code",
     "collapsed": false,
     "input": [
      "alist_file = '../alist/wimax_2304_0_5.alist'\n",
      "H, N, M = create_H_from_alist(alist_file)\n",
      "\n",
      "# Manually find these parameters for now.\n",
      "X = 5\n",
      "d = 7"
     ],
     "language": "python",
     "metadata": {},
     "outputs": [
      {
       "output_type": "stream",
       "stream": "stdout",
       "text": [
        "N: 2304\n",
        "M: 1152\n"
       ]
      }
     ],
     "prompt_number": 10
    },
    {
     "cell_type": "code",
     "collapsed": false,
     "input": [],
     "language": "python",
     "metadata": {},
     "outputs": [],
     "prompt_number": 10
    },
    {
     "cell_type": "code",
     "collapsed": false,
     "input": [
      "BASE_H_SIZE = 24\n",
      "\n",
      "Z = N / BASE_H_SIZE\n",
      "print Z"
     ],
     "language": "python",
     "metadata": {},
     "outputs": [
      {
       "output_type": "stream",
       "stream": "stdout",
       "text": [
        "96\n"
       ]
      }
     ],
     "prompt_number": 11
    },
    {
     "cell_type": "code",
     "collapsed": false,
     "input": [
      "info = np.array(np.random.randint(0,2,N-M), dtype=np.uint8)\n",
      "\n",
      "\n",
      "H_b1 = H[0::, 0:N-M]\n",
      "H_b2 = H[0::, N-M::]\n",
      "\n",
      "V = np.dot(H_b1, info)%2\n",
      "\n",
      "B_b2_inv = T = np.linalg.inv(H_b2)%2\n",
      "\n",
      "p = np.dot(B_b2_inv, H_b1)%2\n",
      "p = np.array(np.dot(p, info)%2, dtype=np.uint8)\n"
     ],
     "language": "python",
     "metadata": {},
     "outputs": [],
     "prompt_number": 12
    },
    {
     "cell_type": "code",
     "collapsed": false,
     "input": [],
     "language": "python",
     "metadata": {},
     "outputs": [],
     "prompt_number": 12
    },
    {
     "cell_type": "code",
     "collapsed": false,
     "input": [
      "def ldpc_encoder(M, Z, X, d, V):\n",
      "    p_p = np.zeros(M, dtype=np.uint8)\n",
      "    p_y = np.zeros(Z, dtype=np.uint8)\n",
      "    p_y2 = np.zeros(Z, dtype=np.uint8)\n",
      "\n",
      "    #fwd sub : p_i = l_i-1  + p_i-1'\n",
      "    for i in range(Z, (X+1)*Z):\n",
      "        p_p[i] = V[i-Z] ^ p_p[i-Z]\n",
      "    \n",
      "    #M-1 : p_i = l_m-1  + p_0'd\n",
      "    for i in range(M-1, M-1 -Z, -1):\n",
      "        p_p[i] = V[i] ^ p_p[(M-1)-i]\n",
      "    \n",
      "        \n",
      "    #back sub : p_i = l_i  + p_i+1'\n",
      "    for i in range(M-1-Z, (X+1)*Z -1, -1):\n",
      "        p_p[i] = V[i] ^ p_p[i+Z]\n",
      "    \n",
      "        \n",
      "    # Y : p_y = l_x + P_x+1\n",
      "    for i in range(X*Z, X*Z + Z):\n",
      "        p_y[i - X*Z] = V[i] ^ p_p[Z+i]\n",
      "     \n",
      "    # P0\n",
      "    for i in range(0, Z):\n",
      "        p_p[i] = p_y[i] ^ p_p[Z*X+i]\n",
      "\n",
      "    f = np.roll(p_p[0:Z], -d)\n",
      "    \n",
      "    p_out = np.zeros(M, dtype=np.uint8)\n",
      "    \n",
      "    for i in range(M):\n",
      "        if i < Z:\n",
      "            p_out[i] = p_p[i]\n",
      "        else:\n",
      "            p_out[i] = p_p[i] ^ f[i%Z]\n",
      "        \n",
      "    return p_out\n",
      "\n",
      "def shift_size(val, Zf, Z0 = 96):\n",
      "    if (val <= 0):\n",
      "        return val\n",
      "    else:\n",
      "        return int(np.floor((val * Zf)/Z0))\n",
      "    \n",
      "# determine shift size for the 2/3 A code rate\n",
      "def shift_size_23A(val, Zf):\n",
      "    if (val <= 0):\n",
      "        return val\n",
      "    else:\n",
      "        return val % Zf"
     ],
     "language": "python",
     "metadata": {},
     "outputs": [],
     "prompt_number": 13
    },
    {
     "cell_type": "code",
     "collapsed": false,
     "input": [
      "shift = shift_size(d, Z)\n",
      "\n",
      "H_b1 = H[0::, 0:N-M]\n",
      "H_b2 = H[0::, N-M::]\n",
      "\n",
      "V = np.dot(H_b1, info)%2\n",
      "\n",
      "p_out = ldpc_encoder(M, Z, X, shift, V)\n",
      "\n",
      "out = np.array(np.concatenate((info, p_out)), dtype=np.uint8)\n"
     ],
     "language": "python",
     "metadata": {},
     "outputs": [],
     "prompt_number": 14
    },
    {
     "cell_type": "code",
     "collapsed": false,
     "input": [
      "def read_checknodes_from_alist(alist):\n",
      "    \n",
      "    f = open(alist, 'r')\n",
      "    \n",
      "    line = f.readline()\n",
      "    N, M = line.split(' ')\n",
      "    \n",
      "    #print int(N)\n",
      "    #print int(M)\n",
      "    \n",
      "    line = f.readline()\n",
      "    w_weight = line.split(' ')\n",
      "\n",
      "    #print int(max_col_weight)\n",
      "    #print int(max_row_weight)\n",
      "    \n",
      "    line = f.readline()\n",
      "    col_weights = line.split(' ')\n",
      "    col_weights.pop()\n",
      "    \n",
      "    line = f.readline()\n",
      "    row_weights = line.split(' ')\n",
      "    row_weights.pop()\n",
      "    \n",
      "    #print col_weights\n",
      "    #print row_weights\n",
      "    \n",
      "    nlist = []\n",
      "    mlist = []\n",
      "    \n",
      "    for i in range(int(N)):\n",
      "        nlist.append(f.readline().split('\\n')[0])\n",
      "        \n",
      "    \n",
      "    for i in range(int(M)):\n",
      "        mlist.append(f.readline().split('\\n')[0].split(' '))\n",
      "\n",
      "    \n",
      "    return mlist, int(N), int(M)"
     ],
     "language": "python",
     "metadata": {},
     "outputs": [],
     "prompt_number": 16
    },
    {
     "cell_type": "code",
     "collapsed": false,
     "input": [
      "checknodes, decode_N, decode_M = read_checknodes_from_alist(alist_file)"
     ],
     "language": "python",
     "metadata": {},
     "outputs": [],
     "prompt_number": 18
    },
    {
     "cell_type": "code",
     "collapsed": false,
     "input": [
      "\n",
      "def compute_syndrome(checknodes, rx_codeword):\n",
      "    \n",
      "    num_errors = 0\n",
      "    \n",
      "    for i in checknodes:\n",
      "        indices = i\n",
      "        xorsum = 0\n",
      "        \n",
      "        for k in indices:\n",
      "            if (k != '' and int(k) != 0):\n",
      "                xorsum ^= rx_codeword[int(k)-1]\n",
      "        \n",
      "        if (xorsum != 0):\n",
      "            num_errors += 1\n",
      "    \n",
      "    return num_errors\n",
      "    "
     ],
     "language": "python",
     "metadata": {},
     "outputs": [],
     "prompt_number": 19
    },
    {
     "cell_type": "code",
     "collapsed": false,
     "input": [
      "compute_syndrome(checknodes, out)"
     ],
     "language": "python",
     "metadata": {},
     "outputs": [
      {
       "metadata": {},
       "output_type": "pyout",
       "prompt_number": 20,
       "text": [
        "0"
       ]
      }
     ],
     "prompt_number": 20
    },
    {
     "cell_type": "code",
     "collapsed": false,
     "input": [],
     "language": "python",
     "metadata": {},
     "outputs": []
    }
   ],
   "metadata": {}
  }
 ]
}